{
  "nbformat": 4,
  "nbformat_minor": 0,
  "metadata": {
    "colab": {
      "provenance": []
    },
    "kernelspec": {
      "name": "python3",
      "display_name": "Python 3"
    },
    "language_info": {
      "name": "python"
    },
    "accelerator": "TPU",
    "gpuClass": "standard"
  },
  "cells": [
    {
      "cell_type": "code",
      "execution_count": 4,
      "metadata": {
        "id": "4nM6HaXhSQG-"
      },
      "outputs": [],
      "source": [
        "import numpy as np \n",
        "import pandas as pd \n",
        "import nltk\n",
        "import string as s\n",
        "from nltk.corpus import stopwords\n",
        "import matplotlib.pyplot as plt\n",
        "%matplotlib inline\n",
        "import seaborn as sns\n",
        "import re\n",
        "import os"
      ]
    },
    {
      "cell_type": "code",
      "source": [
        "train_data=pd.read_csv(\"/content/train_new.csv\",on_bad_lines='skip',header=0,names=['classid','title','desc'])\n",
        "test_data=pd.read_csv(\"/content/test.csv\",header=0,names=['classid','title','desc'])"
      ],
      "metadata": {
        "id": "uYAg7Tf_SUOY"
      },
      "execution_count": 5,
      "outputs": []
    },
    {
      "cell_type": "code",
      "source": [
        "train_data.head()"
      ],
      "metadata": {
        "colab": {
          "base_uri": "https://localhost:8080/",
          "height": 206
        },
        "id": "CNoTcDm1TS3g",
        "outputId": "cb832429-7266-46da-a963-35ef14514e19"
      },
      "execution_count": 6,
      "outputs": [
        {
          "output_type": "execute_result",
          "data": {
            "text/plain": [
              "   classid                                              title  \\\n",
              "0        3  Wall St. Bears Claw Back Into the Black (Reuters)   \n",
              "1        3  Carlyle Looks Toward Commercial Aerospace (Reu...   \n",
              "2        3    Oil and Economy Cloud Stocks' Outlook (Reuters)   \n",
              "3        3  Iraq Halts Oil Exports from Main Southern Pipe...   \n",
              "4        3  Oil prices soar to all-time record, posing new...   \n",
              "\n",
              "                                                desc  \n",
              "0  Reuters - Short-sellers, Wall Street's dwindli...  \n",
              "1  Reuters - Private investment firm Carlyle Grou...  \n",
              "2  Reuters - Soaring crude prices plus worries\\ab...  \n",
              "3  Reuters - Authorities have halted oil export\\f...  \n",
              "4  AFP - Tearaway world oil prices, toppling reco...  "
            ],
            "text/html": [
              "\n",
              "  <div id=\"df-a41f5bde-98cb-4c3b-aae9-11baccc71227\">\n",
              "    <div class=\"colab-df-container\">\n",
              "      <div>\n",
              "<style scoped>\n",
              "    .dataframe tbody tr th:only-of-type {\n",
              "        vertical-align: middle;\n",
              "    }\n",
              "\n",
              "    .dataframe tbody tr th {\n",
              "        vertical-align: top;\n",
              "    }\n",
              "\n",
              "    .dataframe thead th {\n",
              "        text-align: right;\n",
              "    }\n",
              "</style>\n",
              "<table border=\"1\" class=\"dataframe\">\n",
              "  <thead>\n",
              "    <tr style=\"text-align: right;\">\n",
              "      <th></th>\n",
              "      <th>classid</th>\n",
              "      <th>title</th>\n",
              "      <th>desc</th>\n",
              "    </tr>\n",
              "  </thead>\n",
              "  <tbody>\n",
              "    <tr>\n",
              "      <th>0</th>\n",
              "      <td>3</td>\n",
              "      <td>Wall St. Bears Claw Back Into the Black (Reuters)</td>\n",
              "      <td>Reuters - Short-sellers, Wall Street's dwindli...</td>\n",
              "    </tr>\n",
              "    <tr>\n",
              "      <th>1</th>\n",
              "      <td>3</td>\n",
              "      <td>Carlyle Looks Toward Commercial Aerospace (Reu...</td>\n",
              "      <td>Reuters - Private investment firm Carlyle Grou...</td>\n",
              "    </tr>\n",
              "    <tr>\n",
              "      <th>2</th>\n",
              "      <td>3</td>\n",
              "      <td>Oil and Economy Cloud Stocks' Outlook (Reuters)</td>\n",
              "      <td>Reuters - Soaring crude prices plus worries\\ab...</td>\n",
              "    </tr>\n",
              "    <tr>\n",
              "      <th>3</th>\n",
              "      <td>3</td>\n",
              "      <td>Iraq Halts Oil Exports from Main Southern Pipe...</td>\n",
              "      <td>Reuters - Authorities have halted oil export\\f...</td>\n",
              "    </tr>\n",
              "    <tr>\n",
              "      <th>4</th>\n",
              "      <td>3</td>\n",
              "      <td>Oil prices soar to all-time record, posing new...</td>\n",
              "      <td>AFP - Tearaway world oil prices, toppling reco...</td>\n",
              "    </tr>\n",
              "  </tbody>\n",
              "</table>\n",
              "</div>\n",
              "      <button class=\"colab-df-convert\" onclick=\"convertToInteractive('df-a41f5bde-98cb-4c3b-aae9-11baccc71227')\"\n",
              "              title=\"Convert this dataframe to an interactive table.\"\n",
              "              style=\"display:none;\">\n",
              "        \n",
              "  <svg xmlns=\"http://www.w3.org/2000/svg\" height=\"24px\"viewBox=\"0 0 24 24\"\n",
              "       width=\"24px\">\n",
              "    <path d=\"M0 0h24v24H0V0z\" fill=\"none\"/>\n",
              "    <path d=\"M18.56 5.44l.94 2.06.94-2.06 2.06-.94-2.06-.94-.94-2.06-.94 2.06-2.06.94zm-11 1L8.5 8.5l.94-2.06 2.06-.94-2.06-.94L8.5 2.5l-.94 2.06-2.06.94zm10 10l.94 2.06.94-2.06 2.06-.94-2.06-.94-.94-2.06-.94 2.06-2.06.94z\"/><path d=\"M17.41 7.96l-1.37-1.37c-.4-.4-.92-.59-1.43-.59-.52 0-1.04.2-1.43.59L10.3 9.45l-7.72 7.72c-.78.78-.78 2.05 0 2.83L4 21.41c.39.39.9.59 1.41.59.51 0 1.02-.2 1.41-.59l7.78-7.78 2.81-2.81c.8-.78.8-2.07 0-2.86zM5.41 20L4 18.59l7.72-7.72 1.47 1.35L5.41 20z\"/>\n",
              "  </svg>\n",
              "      </button>\n",
              "      \n",
              "  <style>\n",
              "    .colab-df-container {\n",
              "      display:flex;\n",
              "      flex-wrap:wrap;\n",
              "      gap: 12px;\n",
              "    }\n",
              "\n",
              "    .colab-df-convert {\n",
              "      background-color: #E8F0FE;\n",
              "      border: none;\n",
              "      border-radius: 50%;\n",
              "      cursor: pointer;\n",
              "      display: none;\n",
              "      fill: #1967D2;\n",
              "      height: 32px;\n",
              "      padding: 0 0 0 0;\n",
              "      width: 32px;\n",
              "    }\n",
              "\n",
              "    .colab-df-convert:hover {\n",
              "      background-color: #E2EBFA;\n",
              "      box-shadow: 0px 1px 2px rgba(60, 64, 67, 0.3), 0px 1px 3px 1px rgba(60, 64, 67, 0.15);\n",
              "      fill: #174EA6;\n",
              "    }\n",
              "\n",
              "    [theme=dark] .colab-df-convert {\n",
              "      background-color: #3B4455;\n",
              "      fill: #D2E3FC;\n",
              "    }\n",
              "\n",
              "    [theme=dark] .colab-df-convert:hover {\n",
              "      background-color: #434B5C;\n",
              "      box-shadow: 0px 1px 3px 1px rgba(0, 0, 0, 0.15);\n",
              "      filter: drop-shadow(0px 1px 2px rgba(0, 0, 0, 0.3));\n",
              "      fill: #FFFFFF;\n",
              "    }\n",
              "  </style>\n",
              "\n",
              "      <script>\n",
              "        const buttonEl =\n",
              "          document.querySelector('#df-a41f5bde-98cb-4c3b-aae9-11baccc71227 button.colab-df-convert');\n",
              "        buttonEl.style.display =\n",
              "          google.colab.kernel.accessAllowed ? 'block' : 'none';\n",
              "\n",
              "        async function convertToInteractive(key) {\n",
              "          const element = document.querySelector('#df-a41f5bde-98cb-4c3b-aae9-11baccc71227');\n",
              "          const dataTable =\n",
              "            await google.colab.kernel.invokeFunction('convertToInteractive',\n",
              "                                                     [key], {});\n",
              "          if (!dataTable) return;\n",
              "\n",
              "          const docLinkHtml = 'Like what you see? Visit the ' +\n",
              "            '<a target=\"_blank\" href=https://colab.research.google.com/notebooks/data_table.ipynb>data table notebook</a>'\n",
              "            + ' to learn more about interactive tables.';\n",
              "          element.innerHTML = '';\n",
              "          dataTable['output_type'] = 'display_data';\n",
              "          await google.colab.output.renderOutput(dataTable, element);\n",
              "          const docLink = document.createElement('div');\n",
              "          docLink.innerHTML = docLinkHtml;\n",
              "          element.appendChild(docLink);\n",
              "        }\n",
              "      </script>\n",
              "    </div>\n",
              "  </div>\n",
              "  "
            ]
          },
          "metadata": {},
          "execution_count": 6
        }
      ]
    },
    {
      "cell_type": "code",
      "source": [
        "train_data.shape"
      ],
      "metadata": {
        "colab": {
          "base_uri": "https://localhost:8080/"
        },
        "id": "oRP_tgdXTXph",
        "outputId": "325c7f47-9f7b-4ebf-db51-500c5c822e2f"
      },
      "execution_count": 7,
      "outputs": [
        {
          "output_type": "execute_result",
          "data": {
            "text/plain": [
              "(79999, 3)"
            ]
          },
          "metadata": {},
          "execution_count": 7
        }
      ]
    },
    {
      "cell_type": "code",
      "source": [
        "test_data.shape"
      ],
      "metadata": {
        "colab": {
          "base_uri": "https://localhost:8080/"
        },
        "id": "YNt7jv9tTbfX",
        "outputId": "08acca94-c347-49cd-d18a-a41abb7d4c23"
      },
      "execution_count": 8,
      "outputs": [
        {
          "output_type": "execute_result",
          "data": {
            "text/plain": [
              "(7600, 3)"
            ]
          },
          "metadata": {},
          "execution_count": 8
        }
      ]
    },
    {
      "cell_type": "code",
      "source": [
        "train_x=train_data.desc\n",
        "test_x=test_data.desc\n",
        "train_y=train_data.classid\n",
        "test_y=test_data.classid"
      ],
      "metadata": {
        "id": "EgRLxSrlThY4"
      },
      "execution_count": 9,
      "outputs": []
    },
    {
      "cell_type": "code",
      "source": [
        "def remove_html(text):\n",
        "    html_pattern = re.compile('<.*?>')\n",
        "    return html_pattern.sub(r'', text)\n",
        "\n",
        "train_x=train_x.apply(remove_html)\n",
        "test_x=test_x.apply(remove_html)"
      ],
      "metadata": {
        "id": "IM7eq32aT03i"
      },
      "execution_count": 10,
      "outputs": []
    },
    {
      "cell_type": "code",
      "source": [
        "def remove_urls(text):\n",
        "    url_pattern = re.compile(r'https?://\\S+|www\\.\\S+')\n",
        "    return url_pattern.sub(r'', text)\n",
        "\n",
        "train_x=train_x.apply(remove_urls)\n",
        "test_x=test_x.apply(remove_urls)"
      ],
      "metadata": {
        "id": "Phc0RAeGT15F"
      },
      "execution_count": 11,
      "outputs": []
    },
    {
      "cell_type": "code",
      "source": [
        "def word_tokenize(txt):\n",
        "    tokens = re.findall(\"[\\w']+\", txt)\n",
        "    return tokens\n",
        "train_x=train_x.apply(word_tokenize)\n",
        "test_x=test_x.apply(word_tokenize)"
      ],
      "metadata": {
        "id": "E9Ygcj3wT6Q0"
      },
      "execution_count": 12,
      "outputs": []
    },
    {
      "cell_type": "code",
      "source": [
        "import nltk\n",
        "nltk.download('stopwords')"
      ],
      "metadata": {
        "colab": {
          "base_uri": "https://localhost:8080/"
        },
        "id": "KXCt2y73T9Ew",
        "outputId": "c5b4be57-3dc4-4046-d184-53d6652dd5cf"
      },
      "execution_count": 13,
      "outputs": [
        {
          "output_type": "stream",
          "name": "stderr",
          "text": [
            "[nltk_data] Downloading package stopwords to /root/nltk_data...\n",
            "[nltk_data]   Package stopwords is already up-to-date!\n"
          ]
        },
        {
          "output_type": "execute_result",
          "data": {
            "text/plain": [
              "True"
            ]
          },
          "metadata": {},
          "execution_count": 13
        }
      ]
    },
    {
      "cell_type": "code",
      "source": [
        "def remove_stopwords(lst):\n",
        "    stop=stopwords.words('english')\n",
        "    new_lst=[]\n",
        "    for i in lst:\n",
        "        if i.lower() not in stop:\n",
        "            new_lst.append(i)\n",
        "    return new_lst"
      ],
      "metadata": {
        "id": "sdzPnW0qT_fq"
      },
      "execution_count": 14,
      "outputs": []
    },
    {
      "cell_type": "code",
      "source": [
        "def remove_punctuations(lst):\n",
        "    new_lst=[]\n",
        "    for i in lst:\n",
        "        for  j in  s.punctuation:\n",
        "            i=i.replace(j,'')\n",
        "        new_lst.append(i)\n",
        "    return new_lst\n",
        "train_x=train_x.apply(remove_punctuations) \n",
        "test_x=test_x.apply(remove_punctuations)"
      ],
      "metadata": {
        "id": "HsUK625CUCs-"
      },
      "execution_count": 15,
      "outputs": []
    },
    {
      "cell_type": "code",
      "source": [
        "def remove_numbers(lst):\n",
        "    nodig_lst=[]\n",
        "    new_lst=[]\n",
        "\n",
        "    for i in  lst:\n",
        "        for j in  s.digits:\n",
        "            i=i.replace(j,'')\n",
        "        nodig_lst.append(i)\n",
        "    for i in  nodig_lst:\n",
        "        if  i!='':\n",
        "            new_lst.append(i)\n",
        "    return new_lst\n",
        "train_x=train_x.apply(remove_numbers)\n",
        "test_x=test_x.apply(remove_numbers)"
      ],
      "metadata": {
        "id": "plhZ_xesUGGQ"
      },
      "execution_count": 16,
      "outputs": []
    },
    {
      "cell_type": "code",
      "source": [
        "import nltk\n",
        "\n",
        "def stemming(text):\n",
        "    porter_stemmer = nltk.PorterStemmer()\n",
        "    roots = [porter_stemmer.stem(each) for each in text]\n",
        "    return (roots)\n",
        "\n",
        "train_x=train_x.apply(stemming)\n",
        "test_x=test_x.apply(stemming)"
      ],
      "metadata": {
        "id": "TVzQu-vFUJsC"
      },
      "execution_count": 17,
      "outputs": []
    },
    {
      "cell_type": "code",
      "source": [
        "import nltk\n",
        "nltk.download('wordnet')"
      ],
      "metadata": {
        "colab": {
          "base_uri": "https://localhost:8080/"
        },
        "id": "q83hIrKJUNNJ",
        "outputId": "c4bbe4b0-89fc-424c-c11b-cc6137e668a5"
      },
      "execution_count": 18,
      "outputs": [
        {
          "output_type": "stream",
          "name": "stderr",
          "text": [
            "[nltk_data] Downloading package wordnet to /root/nltk_data...\n",
            "[nltk_data]   Package wordnet is already up-to-date!\n"
          ]
        },
        {
          "output_type": "execute_result",
          "data": {
            "text/plain": [
              "True"
            ]
          },
          "metadata": {},
          "execution_count": 18
        }
      ]
    },
    {
      "cell_type": "code",
      "source": [
        "lemmatizer=nltk.stem.WordNetLemmatizer()\n",
        "def lemmatzation(lst):\n",
        "    new_lst=[]\n",
        "    for i in lst:\n",
        "        i=lemmatizer.lemmatize(i)\n",
        "        new_lst.append(i)\n",
        "    return new_lst\n",
        "train_x=train_x.apply(lemmatzation)\n",
        "test_x=test_x.apply(lemmatzation)"
      ],
      "metadata": {
        "id": "RnoXWls1UQk6"
      },
      "execution_count": 19,
      "outputs": []
    },
    {
      "cell_type": "code",
      "source": [
        "def remove_extrawords(lst):\n",
        "    stop=['href','lt','gt','ii','iii','ie','quot','com']\n",
        "    new_lst=[]\n",
        "    for i in lst:\n",
        "        if i not in stop:\n",
        "            new_lst.append(i)\n",
        "    return new_lst\n",
        "\n",
        "train_x=train_x.apply(remove_extrawords)\n",
        "test_x=test_x.apply(remove_extrawords) "
      ],
      "metadata": {
        "id": "NxK3KUOnUT85"
      },
      "execution_count": 20,
      "outputs": []
    },
    {
      "cell_type": "code",
      "source": [
        "train_x=train_x.apply(lambda x: ''.join(i+' ' for i in x))\n",
        "test_x=test_x.apply(lambda x: ''.join(i+' '  for i in x))"
      ],
      "metadata": {
        "id": "CmsJw4YAUW8U"
      },
      "execution_count": 21,
      "outputs": []
    },
    {
      "cell_type": "code",
      "source": [
        "from sklearn.feature_extraction.text  import TfidfVectorizer\n",
        "tfidf=TfidfVectorizer(min_df=5,max_df=0.7,ngram_range=(1,3))\n",
        "train_1=tfidf.fit_transform(train_x)\n",
        "test_1=tfidf.transform(test_x)\n",
        "print(\"No. of features extracted\")\n",
        "print(len(tfidf.get_feature_names_out()))\n",
        "print(tfidf.get_feature_names_out()[:100])\n",
        "\n",
        "train_arr=train_1.toarray()\n",
        "test_arr=test_1.toarray()"
      ],
      "metadata": {
        "colab": {
          "base_uri": "https://localhost:8080/"
        },
        "id": "Xy8zhdVwUcxo",
        "outputId": "d545c6b3-b45b-45df-d0fc-efe94ad382e0"
      },
      "execution_count": 22,
      "outputs": [
        {
          "output_type": "stream",
          "name": "stdout",
          "text": [
            "No. of features extracted\n",
            "134053\n",
            "['aa' 'aa billion' 'aa billion billion' 'aa footbal' 'aapl' 'aapl ha'\n",
            " 'aapl on' 'aaron' 'aaron and' 'aaron and babe' 'aaron boon'\n",
            " 'aaron peirsol' 'aaron rodger' 'ab' 'ab the' 'ababa' 'ababa ethiopia'\n",
            " 'abandon' 'abandon hi' 'abandon it' 'abandon it cd' 'abandon it nuclear'\n",
            " 'abandon microsoft' 'abandon microsoft window' 'abandon plan'\n",
            " 'abandon plan to' 'abandon the' 'abandon their' 'abat' 'abba' 'abbey'\n",
            " 'abbey nation' 'abbey nation after' 'abbey nation by' 'abbey nation plc'\n",
            " 'abbi' 'abbi wambach' 'abbott' 'abbott laboratori' 'abc' 'abc new'\n",
            " 'abdic' 'abduct' 'abduct and' 'abduct by' 'abduct in' 'abduct in iraq'\n",
            " 'abduct of' 'abduct of two' 'abduct six' 'abduct six egyptian' 'abductor'\n",
            " 'abdul' 'abdul rashid' 'abdullah' 'abdullah ahmad'\n",
            " 'abdullah ahmad badawi' 'abdullah badawi' 'abdullahi' 'abdullahi yusuf'\n",
            " 'aberdeen' 'abid' 'abid by' 'abidjan' 'abil' 'abil of' 'abil to'\n",
            " 'abil to lead' 'abkhazia' 'abl' 'abl to' 'abl to access' 'abl to do'\n",
            " 'abl to download' 'abl to get' 'abl to log' 'abl to make' 'abl to pitch'\n",
            " 'abl to play' 'abl to see' 'abl to take' 'abl to use' 'ablaz' 'abn'\n",
            " 'abn amro' 'aboard' 'aboard nasa' 'aboard offici' 'aboard offici said'\n",
            " 'aboard the' 'aboard the intern' 'abolish' 'aborigin' 'abort' 'abort and'\n",
            " 'abort right' 'abound' 'about' 'about ac' 'about all']\n"
          ]
        }
      ]
    },
    {
      "cell_type": "code",
      "source": [
        "type(test_arr)"
      ],
      "metadata": {
        "id": "H6HtepEhbHIo",
        "outputId": "137147d3-8487-47e1-8ec0-ec93e72fcf8b",
        "colab": {
          "base_uri": "https://localhost:8080/"
        }
      },
      "execution_count": 31,
      "outputs": [
        {
          "output_type": "execute_result",
          "data": {
            "text/plain": [
              "numpy.ndarray"
            ]
          },
          "metadata": {},
          "execution_count": 31
        }
      ]
    },
    {
      "cell_type": "code",
      "source": [
        "train_arr"
      ],
      "metadata": {
        "id": "JuuLcfQGbI7f",
        "outputId": "415a47e1-06d0-4074-f9d3-ddd5ab2a436b",
        "colab": {
          "base_uri": "https://localhost:8080/"
        }
      },
      "execution_count": 30,
      "outputs": [
        {
          "output_type": "execute_result",
          "data": {
            "text/plain": [
              "array([[0., 0., 0., ..., 0., 0., 0.],\n",
              "       [0., 0., 0., ..., 0., 0., 0.],\n",
              "       [0., 0., 0., ..., 0., 0., 0.],\n",
              "       ...,\n",
              "       [0., 0., 0., ..., 0., 0., 0.],\n",
              "       [0., 0., 0., ..., 0., 0., 0.],\n",
              "       [0., 0., 0., ..., 0., 0., 0.]])"
            ]
          },
          "metadata": {},
          "execution_count": 30
        }
      ]
    },
    {
      "cell_type": "code",
      "source": [
        "pd.DataFrame(train_arr[:100], columns=tfidf.get_feature_names_out())"
      ],
      "metadata": {
        "colab": {
          "base_uri": "https://localhost:8080/",
          "height": 522
        },
        "id": "9vgsOMAxUiOw",
        "outputId": "203ad960-c0e0-49fb-b007-ba6594047da2"
      },
      "execution_count": 23,
      "outputs": [
        {
          "output_type": "execute_result",
          "data": {
            "text/plain": [
              "     aa  aa billion  aa billion billion  aa footbal  aapl  aapl ha  aapl on  \\\n",
              "0   0.0         0.0                 0.0         0.0   0.0      0.0      0.0   \n",
              "1   0.0         0.0                 0.0         0.0   0.0      0.0      0.0   \n",
              "2   0.0         0.0                 0.0         0.0   0.0      0.0      0.0   \n",
              "3   0.0         0.0                 0.0         0.0   0.0      0.0      0.0   \n",
              "4   0.0         0.0                 0.0         0.0   0.0      0.0      0.0   \n",
              "..  ...         ...                 ...         ...   ...      ...      ...   \n",
              "95  0.0         0.0                 0.0         0.0   0.0      0.0      0.0   \n",
              "96  0.0         0.0                 0.0         0.0   0.0      0.0      0.0   \n",
              "97  0.0         0.0                 0.0         0.0   0.0      0.0      0.0   \n",
              "98  0.0         0.0                 0.0         0.0   0.0      0.0      0.0   \n",
              "99  0.0         0.0                 0.0         0.0   0.0      0.0      0.0   \n",
              "\n",
              "    aaron  aaron and  aaron and babe  ...  zuma  zurich  zurich challeng  \\\n",
              "0     0.0        0.0             0.0  ...   0.0     0.0              0.0   \n",
              "1     0.0        0.0             0.0  ...   0.0     0.0              0.0   \n",
              "2     0.0        0.0             0.0  ...   0.0     0.0              0.0   \n",
              "3     0.0        0.0             0.0  ...   0.0     0.0              0.0   \n",
              "4     0.0        0.0             0.0  ...   0.0     0.0              0.0   \n",
              "..    ...        ...             ...  ...   ...     ...              ...   \n",
              "95    0.0        0.0             0.0  ...   0.0     0.0              0.0   \n",
              "96    0.0        0.0             0.0  ...   0.0     0.0              0.0   \n",
              "97    0.0        0.0             0.0  ...   0.0     0.0              0.0   \n",
              "98    0.0        0.0             0.0  ...   0.0     0.0              0.0   \n",
              "99    0.0        0.0             0.0  ...   0.0     0.0              0.0   \n",
              "\n",
              "    zurich reuter  zurich reuter credit  zurich reuter wimbledon  \\\n",
              "0             0.0                   0.0                      0.0   \n",
              "1             0.0                   0.0                      0.0   \n",
              "2             0.0                   0.0                      0.0   \n",
              "3             0.0                   0.0                      0.0   \n",
              "4             0.0                   0.0                      0.0   \n",
              "..            ...                   ...                      ...   \n",
              "95            0.0                   0.0                      0.0   \n",
              "96            0.0                   0.0                      0.0   \n",
              "97            0.0                   0.0                      0.0   \n",
              "98            0.0                   0.0                      0.0   \n",
              "99            0.0                   0.0                      0.0   \n",
              "\n",
              "    zurich switzerland  zvonareva  zvonareva in  zwick  \n",
              "0                  0.0        0.0           0.0    0.0  \n",
              "1                  0.0        0.0           0.0    0.0  \n",
              "2                  0.0        0.0           0.0    0.0  \n",
              "3                  0.0        0.0           0.0    0.0  \n",
              "4                  0.0        0.0           0.0    0.0  \n",
              "..                 ...        ...           ...    ...  \n",
              "95                 0.0        0.0           0.0    0.0  \n",
              "96                 0.0        0.0           0.0    0.0  \n",
              "97                 0.0        0.0           0.0    0.0  \n",
              "98                 0.0        0.0           0.0    0.0  \n",
              "99                 0.0        0.0           0.0    0.0  \n",
              "\n",
              "[100 rows x 134053 columns]"
            ],
            "text/html": [
              "\n",
              "  <div id=\"df-0981ad23-eadf-463d-9711-1e3f6f15349e\">\n",
              "    <div class=\"colab-df-container\">\n",
              "      <div>\n",
              "<style scoped>\n",
              "    .dataframe tbody tr th:only-of-type {\n",
              "        vertical-align: middle;\n",
              "    }\n",
              "\n",
              "    .dataframe tbody tr th {\n",
              "        vertical-align: top;\n",
              "    }\n",
              "\n",
              "    .dataframe thead th {\n",
              "        text-align: right;\n",
              "    }\n",
              "</style>\n",
              "<table border=\"1\" class=\"dataframe\">\n",
              "  <thead>\n",
              "    <tr style=\"text-align: right;\">\n",
              "      <th></th>\n",
              "      <th>aa</th>\n",
              "      <th>aa billion</th>\n",
              "      <th>aa billion billion</th>\n",
              "      <th>aa footbal</th>\n",
              "      <th>aapl</th>\n",
              "      <th>aapl ha</th>\n",
              "      <th>aapl on</th>\n",
              "      <th>aaron</th>\n",
              "      <th>aaron and</th>\n",
              "      <th>aaron and babe</th>\n",
              "      <th>...</th>\n",
              "      <th>zuma</th>\n",
              "      <th>zurich</th>\n",
              "      <th>zurich challeng</th>\n",
              "      <th>zurich reuter</th>\n",
              "      <th>zurich reuter credit</th>\n",
              "      <th>zurich reuter wimbledon</th>\n",
              "      <th>zurich switzerland</th>\n",
              "      <th>zvonareva</th>\n",
              "      <th>zvonareva in</th>\n",
              "      <th>zwick</th>\n",
              "    </tr>\n",
              "  </thead>\n",
              "  <tbody>\n",
              "    <tr>\n",
              "      <th>0</th>\n",
              "      <td>0.0</td>\n",
              "      <td>0.0</td>\n",
              "      <td>0.0</td>\n",
              "      <td>0.0</td>\n",
              "      <td>0.0</td>\n",
              "      <td>0.0</td>\n",
              "      <td>0.0</td>\n",
              "      <td>0.0</td>\n",
              "      <td>0.0</td>\n",
              "      <td>0.0</td>\n",
              "      <td>...</td>\n",
              "      <td>0.0</td>\n",
              "      <td>0.0</td>\n",
              "      <td>0.0</td>\n",
              "      <td>0.0</td>\n",
              "      <td>0.0</td>\n",
              "      <td>0.0</td>\n",
              "      <td>0.0</td>\n",
              "      <td>0.0</td>\n",
              "      <td>0.0</td>\n",
              "      <td>0.0</td>\n",
              "    </tr>\n",
              "    <tr>\n",
              "      <th>1</th>\n",
              "      <td>0.0</td>\n",
              "      <td>0.0</td>\n",
              "      <td>0.0</td>\n",
              "      <td>0.0</td>\n",
              "      <td>0.0</td>\n",
              "      <td>0.0</td>\n",
              "      <td>0.0</td>\n",
              "      <td>0.0</td>\n",
              "      <td>0.0</td>\n",
              "      <td>0.0</td>\n",
              "      <td>...</td>\n",
              "      <td>0.0</td>\n",
              "      <td>0.0</td>\n",
              "      <td>0.0</td>\n",
              "      <td>0.0</td>\n",
              "      <td>0.0</td>\n",
              "      <td>0.0</td>\n",
              "      <td>0.0</td>\n",
              "      <td>0.0</td>\n",
              "      <td>0.0</td>\n",
              "      <td>0.0</td>\n",
              "    </tr>\n",
              "    <tr>\n",
              "      <th>2</th>\n",
              "      <td>0.0</td>\n",
              "      <td>0.0</td>\n",
              "      <td>0.0</td>\n",
              "      <td>0.0</td>\n",
              "      <td>0.0</td>\n",
              "      <td>0.0</td>\n",
              "      <td>0.0</td>\n",
              "      <td>0.0</td>\n",
              "      <td>0.0</td>\n",
              "      <td>0.0</td>\n",
              "      <td>...</td>\n",
              "      <td>0.0</td>\n",
              "      <td>0.0</td>\n",
              "      <td>0.0</td>\n",
              "      <td>0.0</td>\n",
              "      <td>0.0</td>\n",
              "      <td>0.0</td>\n",
              "      <td>0.0</td>\n",
              "      <td>0.0</td>\n",
              "      <td>0.0</td>\n",
              "      <td>0.0</td>\n",
              "    </tr>\n",
              "    <tr>\n",
              "      <th>3</th>\n",
              "      <td>0.0</td>\n",
              "      <td>0.0</td>\n",
              "      <td>0.0</td>\n",
              "      <td>0.0</td>\n",
              "      <td>0.0</td>\n",
              "      <td>0.0</td>\n",
              "      <td>0.0</td>\n",
              "      <td>0.0</td>\n",
              "      <td>0.0</td>\n",
              "      <td>0.0</td>\n",
              "      <td>...</td>\n",
              "      <td>0.0</td>\n",
              "      <td>0.0</td>\n",
              "      <td>0.0</td>\n",
              "      <td>0.0</td>\n",
              "      <td>0.0</td>\n",
              "      <td>0.0</td>\n",
              "      <td>0.0</td>\n",
              "      <td>0.0</td>\n",
              "      <td>0.0</td>\n",
              "      <td>0.0</td>\n",
              "    </tr>\n",
              "    <tr>\n",
              "      <th>4</th>\n",
              "      <td>0.0</td>\n",
              "      <td>0.0</td>\n",
              "      <td>0.0</td>\n",
              "      <td>0.0</td>\n",
              "      <td>0.0</td>\n",
              "      <td>0.0</td>\n",
              "      <td>0.0</td>\n",
              "      <td>0.0</td>\n",
              "      <td>0.0</td>\n",
              "      <td>0.0</td>\n",
              "      <td>...</td>\n",
              "      <td>0.0</td>\n",
              "      <td>0.0</td>\n",
              "      <td>0.0</td>\n",
              "      <td>0.0</td>\n",
              "      <td>0.0</td>\n",
              "      <td>0.0</td>\n",
              "      <td>0.0</td>\n",
              "      <td>0.0</td>\n",
              "      <td>0.0</td>\n",
              "      <td>0.0</td>\n",
              "    </tr>\n",
              "    <tr>\n",
              "      <th>...</th>\n",
              "      <td>...</td>\n",
              "      <td>...</td>\n",
              "      <td>...</td>\n",
              "      <td>...</td>\n",
              "      <td>...</td>\n",
              "      <td>...</td>\n",
              "      <td>...</td>\n",
              "      <td>...</td>\n",
              "      <td>...</td>\n",
              "      <td>...</td>\n",
              "      <td>...</td>\n",
              "      <td>...</td>\n",
              "      <td>...</td>\n",
              "      <td>...</td>\n",
              "      <td>...</td>\n",
              "      <td>...</td>\n",
              "      <td>...</td>\n",
              "      <td>...</td>\n",
              "      <td>...</td>\n",
              "      <td>...</td>\n",
              "      <td>...</td>\n",
              "    </tr>\n",
              "    <tr>\n",
              "      <th>95</th>\n",
              "      <td>0.0</td>\n",
              "      <td>0.0</td>\n",
              "      <td>0.0</td>\n",
              "      <td>0.0</td>\n",
              "      <td>0.0</td>\n",
              "      <td>0.0</td>\n",
              "      <td>0.0</td>\n",
              "      <td>0.0</td>\n",
              "      <td>0.0</td>\n",
              "      <td>0.0</td>\n",
              "      <td>...</td>\n",
              "      <td>0.0</td>\n",
              "      <td>0.0</td>\n",
              "      <td>0.0</td>\n",
              "      <td>0.0</td>\n",
              "      <td>0.0</td>\n",
              "      <td>0.0</td>\n",
              "      <td>0.0</td>\n",
              "      <td>0.0</td>\n",
              "      <td>0.0</td>\n",
              "      <td>0.0</td>\n",
              "    </tr>\n",
              "    <tr>\n",
              "      <th>96</th>\n",
              "      <td>0.0</td>\n",
              "      <td>0.0</td>\n",
              "      <td>0.0</td>\n",
              "      <td>0.0</td>\n",
              "      <td>0.0</td>\n",
              "      <td>0.0</td>\n",
              "      <td>0.0</td>\n",
              "      <td>0.0</td>\n",
              "      <td>0.0</td>\n",
              "      <td>0.0</td>\n",
              "      <td>...</td>\n",
              "      <td>0.0</td>\n",
              "      <td>0.0</td>\n",
              "      <td>0.0</td>\n",
              "      <td>0.0</td>\n",
              "      <td>0.0</td>\n",
              "      <td>0.0</td>\n",
              "      <td>0.0</td>\n",
              "      <td>0.0</td>\n",
              "      <td>0.0</td>\n",
              "      <td>0.0</td>\n",
              "    </tr>\n",
              "    <tr>\n",
              "      <th>97</th>\n",
              "      <td>0.0</td>\n",
              "      <td>0.0</td>\n",
              "      <td>0.0</td>\n",
              "      <td>0.0</td>\n",
              "      <td>0.0</td>\n",
              "      <td>0.0</td>\n",
              "      <td>0.0</td>\n",
              "      <td>0.0</td>\n",
              "      <td>0.0</td>\n",
              "      <td>0.0</td>\n",
              "      <td>...</td>\n",
              "      <td>0.0</td>\n",
              "      <td>0.0</td>\n",
              "      <td>0.0</td>\n",
              "      <td>0.0</td>\n",
              "      <td>0.0</td>\n",
              "      <td>0.0</td>\n",
              "      <td>0.0</td>\n",
              "      <td>0.0</td>\n",
              "      <td>0.0</td>\n",
              "      <td>0.0</td>\n",
              "    </tr>\n",
              "    <tr>\n",
              "      <th>98</th>\n",
              "      <td>0.0</td>\n",
              "      <td>0.0</td>\n",
              "      <td>0.0</td>\n",
              "      <td>0.0</td>\n",
              "      <td>0.0</td>\n",
              "      <td>0.0</td>\n",
              "      <td>0.0</td>\n",
              "      <td>0.0</td>\n",
              "      <td>0.0</td>\n",
              "      <td>0.0</td>\n",
              "      <td>...</td>\n",
              "      <td>0.0</td>\n",
              "      <td>0.0</td>\n",
              "      <td>0.0</td>\n",
              "      <td>0.0</td>\n",
              "      <td>0.0</td>\n",
              "      <td>0.0</td>\n",
              "      <td>0.0</td>\n",
              "      <td>0.0</td>\n",
              "      <td>0.0</td>\n",
              "      <td>0.0</td>\n",
              "    </tr>\n",
              "    <tr>\n",
              "      <th>99</th>\n",
              "      <td>0.0</td>\n",
              "      <td>0.0</td>\n",
              "      <td>0.0</td>\n",
              "      <td>0.0</td>\n",
              "      <td>0.0</td>\n",
              "      <td>0.0</td>\n",
              "      <td>0.0</td>\n",
              "      <td>0.0</td>\n",
              "      <td>0.0</td>\n",
              "      <td>0.0</td>\n",
              "      <td>...</td>\n",
              "      <td>0.0</td>\n",
              "      <td>0.0</td>\n",
              "      <td>0.0</td>\n",
              "      <td>0.0</td>\n",
              "      <td>0.0</td>\n",
              "      <td>0.0</td>\n",
              "      <td>0.0</td>\n",
              "      <td>0.0</td>\n",
              "      <td>0.0</td>\n",
              "      <td>0.0</td>\n",
              "    </tr>\n",
              "  </tbody>\n",
              "</table>\n",
              "<p>100 rows × 134053 columns</p>\n",
              "</div>\n",
              "      <button class=\"colab-df-convert\" onclick=\"convertToInteractive('df-0981ad23-eadf-463d-9711-1e3f6f15349e')\"\n",
              "              title=\"Convert this dataframe to an interactive table.\"\n",
              "              style=\"display:none;\">\n",
              "        \n",
              "  <svg xmlns=\"http://www.w3.org/2000/svg\" height=\"24px\"viewBox=\"0 0 24 24\"\n",
              "       width=\"24px\">\n",
              "    <path d=\"M0 0h24v24H0V0z\" fill=\"none\"/>\n",
              "    <path d=\"M18.56 5.44l.94 2.06.94-2.06 2.06-.94-2.06-.94-.94-2.06-.94 2.06-2.06.94zm-11 1L8.5 8.5l.94-2.06 2.06-.94-2.06-.94L8.5 2.5l-.94 2.06-2.06.94zm10 10l.94 2.06.94-2.06 2.06-.94-2.06-.94-.94-2.06-.94 2.06-2.06.94z\"/><path d=\"M17.41 7.96l-1.37-1.37c-.4-.4-.92-.59-1.43-.59-.52 0-1.04.2-1.43.59L10.3 9.45l-7.72 7.72c-.78.78-.78 2.05 0 2.83L4 21.41c.39.39.9.59 1.41.59.51 0 1.02-.2 1.41-.59l7.78-7.78 2.81-2.81c.8-.78.8-2.07 0-2.86zM5.41 20L4 18.59l7.72-7.72 1.47 1.35L5.41 20z\"/>\n",
              "  </svg>\n",
              "      </button>\n",
              "      \n",
              "  <style>\n",
              "    .colab-df-container {\n",
              "      display:flex;\n",
              "      flex-wrap:wrap;\n",
              "      gap: 12px;\n",
              "    }\n",
              "\n",
              "    .colab-df-convert {\n",
              "      background-color: #E8F0FE;\n",
              "      border: none;\n",
              "      border-radius: 50%;\n",
              "      cursor: pointer;\n",
              "      display: none;\n",
              "      fill: #1967D2;\n",
              "      height: 32px;\n",
              "      padding: 0 0 0 0;\n",
              "      width: 32px;\n",
              "    }\n",
              "\n",
              "    .colab-df-convert:hover {\n",
              "      background-color: #E2EBFA;\n",
              "      box-shadow: 0px 1px 2px rgba(60, 64, 67, 0.3), 0px 1px 3px 1px rgba(60, 64, 67, 0.15);\n",
              "      fill: #174EA6;\n",
              "    }\n",
              "\n",
              "    [theme=dark] .colab-df-convert {\n",
              "      background-color: #3B4455;\n",
              "      fill: #D2E3FC;\n",
              "    }\n",
              "\n",
              "    [theme=dark] .colab-df-convert:hover {\n",
              "      background-color: #434B5C;\n",
              "      box-shadow: 0px 1px 3px 1px rgba(0, 0, 0, 0.15);\n",
              "      filter: drop-shadow(0px 1px 2px rgba(0, 0, 0, 0.3));\n",
              "      fill: #FFFFFF;\n",
              "    }\n",
              "  </style>\n",
              "\n",
              "      <script>\n",
              "        const buttonEl =\n",
              "          document.querySelector('#df-0981ad23-eadf-463d-9711-1e3f6f15349e button.colab-df-convert');\n",
              "        buttonEl.style.display =\n",
              "          google.colab.kernel.accessAllowed ? 'block' : 'none';\n",
              "\n",
              "        async function convertToInteractive(key) {\n",
              "          const element = document.querySelector('#df-0981ad23-eadf-463d-9711-1e3f6f15349e');\n",
              "          const dataTable =\n",
              "            await google.colab.kernel.invokeFunction('convertToInteractive',\n",
              "                                                     [key], {});\n",
              "          if (!dataTable) return;\n",
              "\n",
              "          const docLinkHtml = 'Like what you see? Visit the ' +\n",
              "            '<a target=\"_blank\" href=https://colab.research.google.com/notebooks/data_table.ipynb>data table notebook</a>'\n",
              "            + ' to learn more about interactive tables.';\n",
              "          element.innerHTML = '';\n",
              "          dataTable['output_type'] = 'display_data';\n",
              "          await google.colab.output.renderOutput(dataTable, element);\n",
              "          const docLink = document.createElement('div');\n",
              "          docLink.innerHTML = docLinkHtml;\n",
              "          element.appendChild(docLink);\n",
              "        }\n",
              "      </script>\n",
              "    </div>\n",
              "  </div>\n",
              "  "
            ]
          },
          "metadata": {},
          "execution_count": 23
        }
      ]
    },
    {
      "cell_type": "code",
      "source": [
        "%%time\n",
        "from sklearn.naive_bayes  import MultinomialNB \n",
        "NB_MN=MultinomialNB(alpha=0.52)\n",
        "NB_MN.fit(train_arr,train_y)\n",
        "pred=NB_MN.predict(test_arr)"
      ],
      "metadata": {
        "colab": {
          "base_uri": "https://localhost:8080/"
        },
        "id": "6ivdqKUuUqf4",
        "outputId": "4c1067b3-8dfd-461b-de50-5b255e821758"
      },
      "execution_count": 24,
      "outputs": [
        {
          "output_type": "stream",
          "name": "stdout",
          "text": [
            "CPU times: user 28 s, sys: 6.73 s, total: 34.7 s\n",
            "Wall time: 25.9 s\n"
          ]
        }
      ]
    },
    {
      "cell_type": "code",
      "source": [
        "from sklearn.metrics  import f1_score,accuracy_score\n",
        "print(\"F1 score of the model\")\n",
        "print(f1_score(test_y,pred,average='micro'))\n",
        "print(\"Accuracy of the model\")\n",
        "print(accuracy_score(test_y,pred))\n",
        "print(\"Accuracy of the model in percentage\")\n",
        "print(round(accuracy_score(test_y,pred)*100,3),\"%\")"
      ],
      "metadata": {
        "colab": {
          "base_uri": "https://localhost:8080/"
        },
        "id": "qtS542O2Uuvu",
        "outputId": "91678ae3-3e10-4234-e671-c73e1a200313"
      },
      "execution_count": 25,
      "outputs": [
        {
          "output_type": "stream",
          "name": "stdout",
          "text": [
            "F1 score of the model\n",
            "0.8846052631578948\n",
            "Accuracy of the model\n",
            "0.8846052631578948\n",
            "Accuracy of the model in percentage\n",
            "88.461 %\n"
          ]
        }
      ]
    },
    {
      "cell_type": "code",
      "source": [
        "from sklearn.metrics import  confusion_matrix\n",
        "sns.set(font_scale=1.5)\n",
        "cof=confusion_matrix(test_y, pred)\n",
        "cof=pd.DataFrame(cof, index=[i for i in range(1,5)], columns=[i for i in range(1,5)])\n",
        "plt.figure(figsize=(8,8))\n",
        "\n",
        "sns.heatmap(cof, cmap=\"PuRd\",linewidths=1, annot=True,square=True,cbar=False,fmt='d',xticklabels=['World','Sports','Business','Science'],yticklabels=['World','Sports','Business','Science'])\n",
        "plt.xlabel(\"Predicted Class\");\n",
        "plt.ylabel(\"Actual Class\");\n",
        "\n",
        "plt.title(\"Confusion Matrix for News Article Classification\");"
      ],
      "metadata": {
        "colab": {
          "base_uri": "https://localhost:8080/",
          "height": 535
        },
        "id": "zJhRsrM4UzOs",
        "outputId": "0317002a-8d12-4ff2-fc49-1c627f95499a"
      },
      "execution_count": 26,
      "outputs": [
        {
          "output_type": "display_data",
          "data": {
            "text/plain": [
              "<Figure size 576x576 with 1 Axes>"
            ],
            "image/png": "[encoded data removed]"
          },
          "metadata": {}
        }
      ]
    },
    {
      "cell_type": "code",
      "source": [
        "z=input(\"enter the news:\")\n",
        "z=remove_html(z)\n",
        "z=remove_urls(z)\n",
        "z=word_tokenize(z)\n",
        "z=remove_stopwords(z)\n",
        "z=remove_numbers(z)\n",
        "z=stemming(z)\n",
        "z=lemmatzation(z)\n",
        "z=remove_extrawords(z)"
      ],
      "metadata": {
        "colab": {
          "base_uri": "https://localhost:8080/"
        },
        "id": "mhGWNB2IVhXT",
        "outputId": "c03fe538-e0e4-488d-ec59-f2081431b828"
      },
      "execution_count": 54,
      "outputs": [
        {
          "name": "stdout",
          "output_type": "stream",
          "text": [
            "enter the news:Reuters - U.S. Treasury debt prices fell on\\Monday as investors focused on a pullback in oil prices from\\record highs and largely shrugged off dismal results from a\\regional manufacturing survey.\n"
          ]
        }
      ]
    },
    {
      "cell_type": "code",
      "source": [
        "z=tfidf.transform(z)"
      ],
      "metadata": {
        "id": "7qO8ZlJwapN_"
      },
      "execution_count": 55,
      "outputs": []
    },
    {
      "cell_type": "code",
      "source": [
        "z"
      ],
      "metadata": {
        "id": "e5Otymq5c4Xb",
        "outputId": "20a0ed48-cb38-4004-a117-519b906b62b8",
        "colab": {
          "base_uri": "https://localhost:8080/"
        }
      },
      "execution_count": 56,
      "outputs": [
        {
          "output_type": "execute_result",
          "data": {
            "text/plain": [
              "<21x134053 sparse matrix of type '<class 'numpy.float64'>'\n",
              "\twith 20 stored elements in Compressed Sparse Row format>"
            ]
          },
          "metadata": {},
          "execution_count": 56
        }
      ]
    },
    {
      "cell_type": "code",
      "source": [
        "y=NB_MN.predict(z)\n",
        "counts = np.bincount(y)\n",
        "z=np.argmax(counts)\n",
        "z"
      ],
      "metadata": {
        "id": "44WSM26Hc6W-",
        "outputId": "46002177-1960-4a08-e98f-8eaff3209173",
        "colab": {
          "base_uri": "https://localhost:8080/"
        }
      },
      "execution_count": 57,
      "outputs": [
        {
          "output_type": "execute_result",
          "data": {
            "text/plain": [
              "3"
            ]
          },
          "metadata": {},
          "execution_count": 57
        }
      ]
    },
    {
      "cell_type": "code",
      "source": [
        "if (z==1):\n",
        "  print(\"World news\")\n",
        "elif(z==2):\n",
        "  print(\"Sports news\")\n",
        "elif(z==3):\n",
        "  print(\"Business news\")\n",
        "else:\n",
        "  print(\"Science and technology news\")"
      ],
      "metadata": {
        "id": "Cwk7O-0efLgt",
        "outputId": "8397de14-b92f-4cdd-9711-7fc241b3aa1a",
        "colab": {
          "base_uri": "https://localhost:8080/"
        }
      },
      "execution_count": 58,
      "outputs": [
        {
          "output_type": "stream",
          "name": "stdout",
          "text": [
            "Business news\n"
          ]
        }
      ]
    },
    {
      "cell_type": "code",
      "source": [],
      "metadata": {
        "id": "XS2s3OXVfG-2"
      },
      "execution_count": null,
      "outputs": []
    }
  ]
}